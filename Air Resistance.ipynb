{
 "cells": [
  {
   "cell_type": "code",
   "execution_count": 1,
   "metadata": {},
   "outputs": [
    {
     "data": {
      "application/javascript": [
       "if (typeof Jupyter !== \"undefined\") {require.undef(\"nbextensions/vpython_libraries/glow.min\");}else{element.textContent = ' ';}"
      ],
      "text/plain": [
       "<IPython.core.display.Javascript object>"
      ]
     },
     "metadata": {},
     "output_type": "display_data"
    },
    {
     "data": {
      "application/javascript": [
       "if (typeof Jupyter !== \"undefined\") {require.undef(\"nbextensions/vpython_libraries/glowcomm\");}else{element.textContent = ' ';}"
      ],
      "text/plain": [
       "<IPython.core.display.Javascript object>"
      ]
     },
     "metadata": {},
     "output_type": "display_data"
    },
    {
     "data": {
      "application/javascript": [
       "if (typeof Jupyter !== \"undefined\") {require.undef(\"nbextensions/vpython_libraries/jquery-ui.custom.min\");}else{element.textContent = ' ';}"
      ],
      "text/plain": [
       "<IPython.core.display.Javascript object>"
      ]
     },
     "metadata": {},
     "output_type": "display_data"
    },
    {
     "data": {
      "application/javascript": [
       "if (typeof Jupyter !== \"undefined\") {require([\"nbextensions/vpython_libraries/glow.min\"], function(){console.log(\"GLOW LOADED\");});}else{element.textContent = ' ';}"
      ],
      "text/plain": [
       "<IPython.core.display.Javascript object>"
      ]
     },
     "metadata": {},
     "output_type": "display_data"
    },
    {
     "data": {
      "application/javascript": [
       "if (typeof Jupyter !== \"undefined\") {require([\"nbextensions/vpython_libraries/glowcomm\"], function(){console.log(\"GLOWCOMM LOADED\");});}else{element.textContent = ' ';}"
      ],
      "text/plain": [
       "<IPython.core.display.Javascript object>"
      ]
     },
     "metadata": {},
     "output_type": "display_data"
    },
    {
     "data": {
      "application/javascript": [
       "if (typeof Jupyter !== \"undefined\") {require([\"nbextensions/vpython_libraries/jquery-ui.custom.min\"], function(){console.log(\"JQUERY LOADED\");});}else{element.textContent = ' ';}"
      ],
      "text/plain": [
       "<IPython.core.display.Javascript object>"
      ]
     },
     "metadata": {},
     "output_type": "display_data"
    },
    {
     "data": {
      "text/html": [
       "<div id=\"glowscript\" class=\"glowscript\"></div>"
      ],
      "text/plain": [
       "<IPython.core.display.HTML object>"
      ]
     },
     "metadata": {},
     "output_type": "display_data"
    },
    {
     "data": {
      "application/javascript": [
       "if (typeof Jupyter !== \"undefined\") { window.__context = { glowscript_container: $(\"#glowscript\").removeAttr(\"id\")};}else{ element.textContent = ' ';}"
      ],
      "text/plain": [
       "<IPython.core.display.Javascript object>"
      ]
     },
     "metadata": {},
     "output_type": "display_data"
    }
   ],
   "source": [
    "# This program simulates the trajectory of a baseball under gravity and air drag forces\n",
    "from vpython import *\n",
    "from numpy import pi, array\n",
    "import math\n",
    "\n",
    "# This function solves df/dt = f(r,t)\n",
    "def f(r,t):\n",
    "    \n",
    "    # unpack variables\n",
    "    x = r[0]\n",
    "    y = r[1]\n",
    "    vx = r[2]\n",
    "    vy = r[3]\n",
    "    v = sqrt(vx**2 + vy**2)\n",
    "    \n",
    "    # function definitions\n",
    "    fx = vx                        # dx/dt = vx\n",
    "    fy = vy                        # dy/dt = vy\n",
    "    fvx = -rho*cd*area*v*vx/(2*m)      # dvx/dt = ax\n",
    "    fvy = -rho*cd*area*v*vy/(2*m) - g  # dvy/dt = ay\n",
    "    \n",
    "    return array([fx,fy,fvx,fvy], float)\n",
    "\n",
    "# Define initial values & constants here\n",
    "x0 = 0 # initial x position\n",
    "y0 = 20 # initial y position\n",
    "vx0 = 40 # x-component of the initial velocity\n",
    "vy0 = 0 # y-component of the initial velocity\n",
    "g = 9.8 # gravitational acceleration constant\n",
    "cd = 0.32 # drag coefficient for the baseball\n",
    "rho = 1.225 # density of the medium (in this case, air)\n",
    "rad = 0.0315 # radius of the baseball\n",
    "area = pi*rad**2 # reference area of the baseball\n",
    "m = 0.145 # mass of the baseball\n",
    "dt = 0.01 # timestep\n",
    "\n",
    "# Define variables here\n",
    "velx = vx0 # x-component of the velocity \n",
    "vely = vy0 # y-component of the velocity\n",
    "posx = x0 # x position\n",
    "posy = y0 # y position\n",
    "t = 0 # elapsed time\n",
    "r = array([x0, y0, vx0, vy0], float) # r array for storing derivate results\n",
    "\n",
    "# Create the scene\n",
    "ball = sphere(pos=vector(posx, posy, 0), radius=rad, color=color.blue, make_trail=True, retain=100)\n",
    "\n",
    "# Graphs\n",
    "motionY = graph(xtitle=\"time (sec)\", ytitle=\"height (m)\")\n",
    "ydots = gdots(graph= motionY, color=color.magenta, label=\"Height (m)\", interval=1)\n",
    "motionX = graph(xtitle=\"time (sec)\", ytitle=\"distance (m)\")\n",
    "xdots = gdots(graph= motionX, color=color.blue, label=\"Distance (m)\", interval=1)\n",
    "\n",
    "# Run the program while the ball hasn't hit the ground yet\n",
    "while (r[1] >= 0):\n",
    "    rate(20)\n",
    "    \n",
    "    # update the graphs\n",
    "    ydots.plot(t, r[1])\n",
    "    xdots.plot(t, r[0])\n",
    "    \n",
    "    # apply 4th Order Runge-Kutta\n",
    "    k1 = dt*f(r,t)\n",
    "    k2 = dt*f(r + 0.5*k1, t + 0.5*dt)\n",
    "    k3 = dt*f(r + 0.5*k2, t + 0.5*dt)\n",
    "    k4 = dt*f(r + k3, t + dt)\n",
    "    r += (k1 + 2*k2 + 2*k3 + k4)/6\n",
    "    \n",
    "    # update elapsed time\n",
    "    t += dt\n",
    "    \n",
    "    # update ball's position\n",
    "    ball.pos = vector(r[0], r[1], 0)\n",
    "\n",
    "# Plot the last position (when the ball hits the ground)\n",
    "ydots.plot(t, r[1])\n",
    "xdots.plot(t, r[0])\n"
   ]
  },
  {
   "cell_type": "markdown",
   "metadata": {},
   "source": [
    "This program simulates the trajectory of a baseball in the air where gravity and air drag forces are taken into account. In each while loop iteration, the new position of the baseball is calculated using the Runge-Kutta method. For this program, I used a baseball with mass = 0.145 kg, radius = 0.0315 m, drag coefficient = 0.32. The initial velocity of the baseball is set to (40, 0, 0) and the ball is thrown from the initial position (0, 20, 0). The simulation takes place in the air, which makes the rho = 1.225 and gravitational acceleration = 9.8 m/s^2."
   ]
  }
 ],
 "metadata": {
  "kernelspec": {
   "display_name": "VPython",
   "language": "python",
   "name": "vpython"
  },
  "language_info": {
   "codemirror_mode": {
    "name": "ipython",
    "version": 3
   },
   "file_extension": ".py",
   "mimetype": "text/x-python",
   "name": "python",
   "nbconvert_exporter": "python",
   "pygments_lexer": "ipython3",
   "version": "3.7.1"
  }
 },
 "nbformat": 4,
 "nbformat_minor": 2
}

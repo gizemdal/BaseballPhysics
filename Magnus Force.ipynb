{
 "cells": [
  {
   "cell_type": "code",
   "execution_count": 1,
   "metadata": {},
   "outputs": [
    {
     "data": {
      "application/javascript": [
       "if (typeof Jupyter !== \"undefined\") {require.undef(\"nbextensions/vpython_libraries/glow.min\");}else{element.textContent = ' ';}"
      ],
      "text/plain": [
       "<IPython.core.display.Javascript object>"
      ]
     },
     "metadata": {},
     "output_type": "display_data"
    },
    {
     "data": {
      "application/javascript": [
       "if (typeof Jupyter !== \"undefined\") {require.undef(\"nbextensions/vpython_libraries/glowcomm\");}else{element.textContent = ' ';}"
      ],
      "text/plain": [
       "<IPython.core.display.Javascript object>"
      ]
     },
     "metadata": {},
     "output_type": "display_data"
    },
    {
     "data": {
      "application/javascript": [
       "if (typeof Jupyter !== \"undefined\") {require.undef(\"nbextensions/vpython_libraries/jquery-ui.custom.min\");}else{element.textContent = ' ';}"
      ],
      "text/plain": [
       "<IPython.core.display.Javascript object>"
      ]
     },
     "metadata": {},
     "output_type": "display_data"
    },
    {
     "data": {
      "application/javascript": [
       "if (typeof Jupyter !== \"undefined\") {require([\"nbextensions/vpython_libraries/glow.min\"], function(){console.log(\"GLOW LOADED\");});}else{element.textContent = ' ';}"
      ],
      "text/plain": [
       "<IPython.core.display.Javascript object>"
      ]
     },
     "metadata": {},
     "output_type": "display_data"
    },
    {
     "data": {
      "application/javascript": [
       "if (typeof Jupyter !== \"undefined\") {require([\"nbextensions/vpython_libraries/glowcomm\"], function(){console.log(\"GLOWCOMM LOADED\");});}else{element.textContent = ' ';}"
      ],
      "text/plain": [
       "<IPython.core.display.Javascript object>"
      ]
     },
     "metadata": {},
     "output_type": "display_data"
    },
    {
     "data": {
      "application/javascript": [
       "if (typeof Jupyter !== \"undefined\") {require([\"nbextensions/vpython_libraries/jquery-ui.custom.min\"], function(){console.log(\"JQUERY LOADED\");});}else{element.textContent = ' ';}"
      ],
      "text/plain": [
       "<IPython.core.display.Javascript object>"
      ]
     },
     "metadata": {},
     "output_type": "display_data"
    },
    {
     "data": {
      "text/html": [
       "<div id=\"glowscript\" class=\"glowscript\"></div>"
      ],
      "text/plain": [
       "<IPython.core.display.HTML object>"
      ]
     },
     "metadata": {},
     "output_type": "display_data"
    },
    {
     "data": {
      "application/javascript": [
       "if (typeof Jupyter !== \"undefined\") { window.__context = { glowscript_container: $(\"#glowscript\").removeAttr(\"id\")};}else{ element.textContent = ' ';}"
      ],
      "text/plain": [
       "<IPython.core.display.Javascript object>"
      ]
     },
     "metadata": {},
     "output_type": "display_data"
    },
    {
     "data": {
      "text/html": [
       "<div id=\"glowscript\" class=\"glowscript\"></div>"
      ],
      "text/plain": [
       "<IPython.core.display.HTML object>"
      ]
     },
     "metadata": {},
     "output_type": "display_data"
    },
    {
     "data": {
      "application/javascript": [
       "if (typeof Jupyter !== \"undefined\") { window.__context = { glowscript_container: $(\"#glowscript\").removeAttr(\"id\")};}else{ element.textContent = ' ';}"
      ],
      "text/plain": [
       "<IPython.core.display.Javascript object>"
      ]
     },
     "metadata": {},
     "output_type": "display_data"
    },
    {
     "name": "stdout",
     "output_type": "stream",
     "text": [
      "242.600281434224\n"
     ]
    }
   ],
   "source": [
    "from vpython import *\n",
    "from numpy import pi, array, sign\n",
    "import math\n",
    "\n",
    "# These functions calculate the magnus forces for each axis\n",
    "def magnusx(vy, vz):\n",
    "    return 0.5*cd*rho*area*rad*(wy*vz - wz*vy)/S\n",
    "\n",
    "def magnusy(vx, vz):\n",
    "    return 0.5*cd*rho*area*rad*(wz*vx - wx*vz)/S\n",
    "\n",
    "def magnusz(vx, vy):\n",
    "    return 0.5*cd*rho*area*rad*(wx*vy - wy*vx)/S\n",
    "\n",
    "# This function solves df/dt = f(r,t)\n",
    "def f(r,t):\n",
    "    \n",
    "    # unpack variables\n",
    "    x = r[0]\n",
    "    y = r[1]\n",
    "    z = r[2]\n",
    "    vx = r[3]\n",
    "    vy = r[4]\n",
    "    vz = r[5]\n",
    "    v = sqrt(vx**2 + vy**2 + vz**2)\n",
    "    \n",
    "    # function definitions\n",
    "    fx = vx                        # dx/dt = vx\n",
    "    fy = vy                        # dy/dt = vy\n",
    "    fz = vz                        # dz/dt = vz\n",
    "    fvx = -sign(vx) * rho*cd*area*v*vx/(2*m) + magnusx(vy, vz)/m     # dvx/dt = ax\n",
    "    fvy = -sign(vy) * rho*cd*area*v*vy/(2*m) - g + magnusy(vx, vz)/m # dvy/dt = ay\n",
    "    fvz = -sign(vz) * rho*cd*area*v*vz/(2*m) + magnusz(vx, vy)/m     # dvz/dt = az\n",
    "    \n",
    "    return array([fx,fy,fz,fvx,fvy,fvz], float)\n",
    "\n",
    "# Define initial values & constants here\n",
    "x0 = 0 # initial x position\n",
    "y0 = 20 # initial y position\n",
    "z0 = 0 # initial z position\n",
    "vx0 = 60 # x-component of the initial velocity\n",
    "vy0 = 30 # y-component of the initial velocity\n",
    "vz0 = 0 # z-component of the initial velocity\n",
    "g = 9.8 # gravitational acceleration constant\n",
    "cd = 0.32 # drag coefficient of the baseball\n",
    "rho = 1.225 # density of the medium (in this case, air)\n",
    "rad = 0.0315 # radius of the baseball\n",
    "area = pi*rad**2 # reference area of the baseball\n",
    "m = 0.145 # mass of the baseball\n",
    "dt = 0.1 # timestep\n",
    "wx = 0 # angular velocity x-component\n",
    "wy = 0 # angular velocity y-component\n",
    "wz = 10 # angular velocity z-component\n",
    "S = 0.17 # Magnus coefficient\n",
    "\n",
    "# Define variables here\n",
    "vel = vector(vx0, vy0, 0) # velocity of the baseball\n",
    "posx = x0 # x position\n",
    "posy = y0 # y position\n",
    "posz = z0 # z position\n",
    "t = 0 # elapsed time\n",
    "r = array([x0, y0, z0, vx0, vy0, vz0], float) # r array for storing derivate results\n",
    "\n",
    "# Create the scene\n",
    "scene = canvas(background = color.white, center=vector(0, 0, 0))\n",
    "ball = sphere(pos=vector(posx, posy, 0), radius=rad, color=color.blue, make_trail=True)\n",
    "\n",
    "# Graphs\n",
    "motion = graph(xtitle=\"time\", ytitle=\"height\")\n",
    "tdots = gdots(graph= motion, color=color.magenta, label=\"Motion\", interval=1)\n",
    "velyG = graph(xtitle=\"time\", ytitle=\"wz\")\n",
    "veldots = gdots(graph= velyG, color=color.blue, label=\"wz\", interval=1)\n",
    "\n",
    "# Run the program while the ball hasn't hit the ground yet\n",
    "while (r[1] >= 0):\n",
    "    rate(20)\n",
    "    tdots.plot(t, r[1])             # update graph\n",
    "    \n",
    "    # apply 4th Order Runge-Kutta\n",
    "    k1 = dt*f(r,t)\n",
    "    k2 = dt*f(r + 0.5*k1, t + 0.5*dt)\n",
    "    k3 = dt*f(r + 0.5*k2, t + 0.5*dt)\n",
    "    k4 = dt*f(r + k3, t + dt)\n",
    "    r += (k1 + 2*k2 + 2*k3 + k4)/6\n",
    "    t += dt\n",
    "    \n",
    "    # Update the Magnus coefficient\n",
    "    S = rad*math.sqrt(wx * wx + wy * wy + wz * wz)/ math.sqrt(vel.x * vel.x + vel.y * vel.y + vel.z * vel.z)\n",
    "    \n",
    "    ball.pos = vector(r[0], r[1], r[2]) # update ball's position\n",
    "    \n",
    "tdots.plot(t, r[1])"
   ]
  },
  {
   "cell_type": "markdown",
   "metadata": {},
   "source": [
    "This program simulates the trajectory of a baseball in the air where gravity, air drag forces and the Magnus force are taken into account. In each while loop iteration, the new position of the baseball is calculated using the Runge-Kutta method and the Magnus coefficient is updated by using the Magnus force formula. For this program, I used a baseball with mass = 0.145 kg, radius = 0.0315 m, drag coefficient = 0.32. The initial velocity of the baseball is set to (60, 30, 0), the angular velocity is set to (0, 0, 10) and the ball is thrown from the initial position (0, 20, 0). The simulation takes place in the air, which makes the rho = 1.225 and gravitational acceleration = 9.8 m/s^2."
   ]
  }
 ],
 "metadata": {
  "kernelspec": {
   "display_name": "VPython",
   "language": "python",
   "name": "vpython"
  },
  "language_info": {
   "codemirror_mode": {
    "name": "ipython",
    "version": 3
   },
   "file_extension": ".py",
   "mimetype": "text/x-python",
   "name": "python",
   "nbconvert_exporter": "python",
   "pygments_lexer": "ipython3",
   "version": "3.7.1"
  }
 },
 "nbformat": 4,
 "nbformat_minor": 2
}

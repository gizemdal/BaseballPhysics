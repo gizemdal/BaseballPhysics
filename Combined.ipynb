{
 "cells": [
  {
   "cell_type": "code",
   "execution_count": 1,
   "metadata": {},
   "outputs": [
    {
     "data": {
      "application/javascript": [
       "if (typeof Jupyter !== \"undefined\") {require.undef(\"nbextensions/vpython_libraries/glow.min\");}else{element.textContent = ' ';}"
      ],
      "text/plain": [
       "<IPython.core.display.Javascript object>"
      ]
     },
     "metadata": {},
     "output_type": "display_data"
    },
    {
     "data": {
      "application/javascript": [
       "if (typeof Jupyter !== \"undefined\") {require.undef(\"nbextensions/vpython_libraries/glowcomm\");}else{element.textContent = ' ';}"
      ],
      "text/plain": [
       "<IPython.core.display.Javascript object>"
      ]
     },
     "metadata": {},
     "output_type": "display_data"
    },
    {
     "data": {
      "application/javascript": [
       "if (typeof Jupyter !== \"undefined\") {require.undef(\"nbextensions/vpython_libraries/jquery-ui.custom.min\");}else{element.textContent = ' ';}"
      ],
      "text/plain": [
       "<IPython.core.display.Javascript object>"
      ]
     },
     "metadata": {},
     "output_type": "display_data"
    },
    {
     "data": {
      "application/javascript": [
       "if (typeof Jupyter !== \"undefined\") {require([\"nbextensions/vpython_libraries/glow.min\"], function(){console.log(\"GLOW LOADED\");});}else{element.textContent = ' ';}"
      ],
      "text/plain": [
       "<IPython.core.display.Javascript object>"
      ]
     },
     "metadata": {},
     "output_type": "display_data"
    },
    {
     "data": {
      "application/javascript": [
       "if (typeof Jupyter !== \"undefined\") {require([\"nbextensions/vpython_libraries/glowcomm\"], function(){console.log(\"GLOWCOMM LOADED\");});}else{element.textContent = ' ';}"
      ],
      "text/plain": [
       "<IPython.core.display.Javascript object>"
      ]
     },
     "metadata": {},
     "output_type": "display_data"
    },
    {
     "data": {
      "application/javascript": [
       "if (typeof Jupyter !== \"undefined\") {require([\"nbextensions/vpython_libraries/jquery-ui.custom.min\"], function(){console.log(\"JQUERY LOADED\");});}else{element.textContent = ' ';}"
      ],
      "text/plain": [
       "<IPython.core.display.Javascript object>"
      ]
     },
     "metadata": {},
     "output_type": "display_data"
    },
    {
     "data": {
      "text/html": [
       "<div id=\"glowscript\" class=\"glowscript\"></div>"
      ],
      "text/plain": [
       "<IPython.core.display.HTML object>"
      ]
     },
     "metadata": {},
     "output_type": "display_data"
    },
    {
     "data": {
      "application/javascript": [
       "if (typeof Jupyter !== \"undefined\") { window.__context = { glowscript_container: $(\"#glowscript\").removeAttr(\"id\")};}else{ element.textContent = ' ';}"
      ],
      "text/plain": [
       "<IPython.core.display.Javascript object>"
      ]
     },
     "metadata": {},
     "output_type": "display_data"
    },
    {
     "data": {
      "text/html": [
       "<div id=\"glowscript\" class=\"glowscript\"></div>"
      ],
      "text/plain": [
       "<IPython.core.display.HTML object>"
      ]
     },
     "metadata": {},
     "output_type": "display_data"
    },
    {
     "data": {
      "application/javascript": [
       "if (typeof Jupyter !== \"undefined\") { window.__context = { glowscript_container: $(\"#glowscript\").removeAttr(\"id\")};}else{ element.textContent = ' ';}"
      ],
      "text/plain": [
       "<IPython.core.display.Javascript object>"
      ]
     },
     "metadata": {},
     "output_type": "display_data"
    }
   ],
   "source": [
    "from vpython import *\n",
    "from numpy import pi, array, sign\n",
    "import math\n",
    "\n",
    "# These functions calculate the magnus forces for each axis\n",
    "def magnusx(vy, vz):\n",
    "    return 0.5*cd*rho*area*rad*(wy*vz - wz*vy)/S\n",
    "\n",
    "def magnusy(vx, vz):\n",
    "    return 0.5*cd*rho*area*rad*(wz*vx - wx*vz)/S\n",
    "\n",
    "def magnusz(vx, vy):\n",
    "    return 0.5*cd*rho*area*rad*(wx*vy - wy*vx)/S\n",
    "\n",
    "# This function solves df/dt = f(r,t) for Magnus force\n",
    "def fM(r,t):\n",
    "    \n",
    "    # unpack variables\n",
    "    x = r[0]\n",
    "    y = r[1]\n",
    "    z = r[2]\n",
    "    vx = r[3]\n",
    "    vy = r[4]\n",
    "    vz = r[5]\n",
    "    v = sqrt(vx**2 + vy**2 + vz**2)\n",
    "    \n",
    "    # function definitions\n",
    "    fx = vx                        # dx/dt = vx\n",
    "    fy = vy                        # dy/dt = vy\n",
    "    fz = vz                        # dz/dt = vz\n",
    "    fvx = -sign(vx) * rho*cd*area*v*vx/(2*m) + magnusx(vy, vz)/m     # dvx/dt = ax\n",
    "    fvy = -sign(vy) * rho*cd*area*v*vy/(2*m) - g + magnusy(vx, vz)/m # dvydt = ay\n",
    "    fvz = -sign(vz) * rho*cd*area*v*vz/(2*m) + magnusz(vx, vy)/m     # dvzdt = az\n",
    "    \n",
    "    return array([fx,fy,fz,fvx,fvy,fvz], float)\n",
    "\n",
    "# This function solves df/dt = f(r,t) for Airdrag only\n",
    "def fD(r,t):\n",
    "    \n",
    "    # unpack variables\n",
    "    x = r[0]\n",
    "    y = r[1]\n",
    "    vx = r[2]\n",
    "    vy = r[3]\n",
    "    v = sqrt(vx**2 + vy**2)\n",
    "    \n",
    "    # function definitions\n",
    "    fx = vx                        # dx/dt = vx\n",
    "    fy = vy                        # dy/dt = vy\n",
    "    fvx = -rho*cd*area*v*vx/(2*m)      # dvx/dt = ax\n",
    "    fvy = -rho*cd*area*v*vy/(2*m) - g  # dvydt = ay\n",
    "    \n",
    "    return array([fx,fy,fvx,fvy], float)\n",
    "\n",
    "# These functions calculate the new position for trajectory in vacuum\n",
    "def x(t):\n",
    "    return vx0*t + x0\n",
    "\n",
    "def y(t):\n",
    "    return -0.5*g*t**2 + vy0*t + y0\n",
    "\n",
    "# Define initial values & constants here\n",
    "x0 = 0 # initial x position\n",
    "y0 = 0 # initial y position\n",
    "z0 = 0 # initial z position\n",
    "vx0 = 50 # x-component of the initial velocity\n",
    "vy0 = 30 # y-component of the initial velocity\n",
    "vz0 = 0 # z-component of the initial velocity\n",
    "g = 9.8 # gravitational acceleration constant\n",
    "cd = 0.32 # drag coefficient for baseball\n",
    "rho = 1.225 # density of the medium (in this case, air)\n",
    "rad = 0.0315 # radius of the baseball\n",
    "area = pi*rad**2 # reference area (in this case, the reference area of a baseball)\n",
    "m = 0.145 # mass of the ball\n",
    "dt = 0.1 # timestep\n",
    "wx = 0 # angular velocity x component\n",
    "wy = 0 # angular velocity y component\n",
    "wz = 40 # angular velocity z component\n",
    "S = 0.17 # Magnus coefficient\n",
    "\n",
    "t = 0 # elapsed time\n",
    "\n",
    "# Magnus force simulation\n",
    "\n",
    "vel1 = vector(vx0, vy0, 0) # velocity for Magnus force\n",
    "posx1 = x0 # x position for Magnus force\n",
    "posy1 = y0 # y position for Magnus force\n",
    "posz1 = z0 # z position for Magnus force\n",
    "r1 = array([x0, y0, z0, vx0, vy0, vz0], float) # r array for storing derivate results for Magnus force\n",
    "\n",
    "# Airdrag simulation\n",
    "\n",
    "vel2 = vector(vx0, vy0, 0) # velocity for air drag only\n",
    "posx2 = x0 # x position for air drag only\n",
    "posy2 = y0 # y position for air drag only\n",
    "posz2 = z0 # z position for air drag only\n",
    "r2 = array([x0, y0, vx0, vy0], float) # r array for storing derivate results for air drag only\n",
    "\n",
    "# Classic Parabolic Motion\n",
    "\n",
    "velx3 = vx0 # x-component of the velocity for trajectory in vacuum\n",
    "vely3 = vy0 # y-component of the velocity for trajectory in vacuum\n",
    "posx3 = x0 # x position for trajectory in vacuum\n",
    "posy3 = y0 # y position for trajectory in vacuum\n",
    "\n",
    "# Create the scene\n",
    "scene = canvas(background = color.white, center=vector(0, 0, 0))\n",
    "ball1 = sphere(pos=vector(posx1, posy1, 0), radius=rad, color=color.blue, make_trail=True) # Magnus force\n",
    "ball2 = sphere(pos=vector(posx1, posy1, 0), radius=rad, color=color.red, make_trail=True) # Air drag only\n",
    "ball3 = sphere(pos=vector(posx1, posy1, 0), radius=rad, color=color.green, make_trail=True) # Vacuum\n",
    "\n",
    "# Graphs\n",
    "\n",
    "# Height versus Time\n",
    "motionY = graph(xtitle=\"time (sec)\", ytitle=\"height (m)\")\n",
    "\n",
    "y1dots = gdots(graph= motionY, color=color.blue, label=\"Air Drag + Magnus\", interval=1)\n",
    "y2dots = gdots(graph= motionY, color=color.red, label=\"Air Drag Only\", interval=1)\n",
    "y3dots = gdots(graph= motionY, color=color.green, label=\"Classic Projectile\", interval=1)\n",
    "\n",
    "# Distance versus Time\n",
    "motionX = graph(xtitle=\"time (sec)\", ytitle=\"distance (m)\")\n",
    "\n",
    "x1dots = gdots(graph= motionX, color=color.blue, label=\"Air Drag + Magnus\", interval=1)\n",
    "x2dots = gdots(graph= motionX, color=color.red, label=\"Air Drag Only\", interval=1)\n",
    "x3dots = gdots(graph= motionX, color=color.green, label=\"Classic Projectile\", interval=1)\n",
    "\n",
    "# Trajectory graph\n",
    "trajectory = graph(xtitle=\"distance (m)\", ytitle=\"height (m)\")\n",
    "\n",
    "pos1dots = gdots(graph= trajectory, color=color.blue, label=\"Air Drag + Magnus\", interval=1)\n",
    "pos2dots = gdots(graph= trajectory, color=color.red, label=\"Air Drag Only\", interval=1)\n",
    "pos3dots = gdots(graph= trajectory, color=color.green, label=\"Classic Projectile\", interval=1)\n",
    "\n",
    "isBall1Done = False # Has the ball for Magnus force reached the ground?\n",
    "isBall2Done = False # Has the ball for Air drag only reached the ground?\n",
    "isBall3Done = False # Has the ball for trajectory in vacuum reached the ground?\n",
    "\n",
    "# Run the program while there's at least one ball still in the air\n",
    "while not (isBall1Done and isBall2Done and isBall3Done):\n",
    "    \n",
    "    rate(20)\n",
    "    \n",
    "    # Check if the plotting should terminate for magnus force motion\n",
    "    if (not isBall1Done):\n",
    "        # update the graphs\n",
    "        y1dots.plot(t, r1[1])             \n",
    "        x1dots.plot(t, r1[0])\n",
    "        pos1dots.plot(r1[0], r1[1])\n",
    "        # apply 4th Order Runge-Kutta\n",
    "        k1 = dt*fM(r1,t)\n",
    "        k2 = dt*fM(r1 + 0.5*k1, t + 0.5*dt)\n",
    "        k3 = dt*fM(r1 + 0.5*k2, t + 0.5*dt)\n",
    "        k4 = dt*fM(r1 + k3, t + dt)\n",
    "        r1 += (k1 + 2*k2 + 2*k3 + k4)/6\n",
    "    \n",
    "    # Check if the plotting should terminate for air drag only motion\n",
    "    if (not isBall2Done):\n",
    "        # update the graphs\n",
    "        y2dots.plot(t, r2[1])            \n",
    "        x2dots.plot(t, r2[0])\n",
    "        pos2dots.plot(r2[0], r2[1])\n",
    "        # apply 4th Order Runge-Kutta\n",
    "        k1 = dt*fD(r2,t)\n",
    "        k2 = dt*fD(r2 + 0.5*k1, t + 0.5*dt)\n",
    "        k3 = dt*fD(r2 + 0.5*k2, t + 0.5*dt)\n",
    "        k4 = dt*fD(r2 + k3, t + dt)\n",
    "        r2 += (k1 + 2*k2 + 2*k3 + k4)/6\n",
    "    \n",
    "    # Check if the plotting should terminate for classic parabolic motion in vacuum\n",
    "    if (not isBall3Done):\n",
    "        # update the graphs\n",
    "        y3dots.plot(t, posy3)\n",
    "        x3dots.plot(t, posx3)\n",
    "        pos3dots.plot(posx3, posy3)\n",
    "        # update the positions\n",
    "        posx3 = x(t)\n",
    "        posy3 = y(t)\n",
    "    \n",
    "    # update elapsed time\n",
    "    t += dt\n",
    "    \n",
    "    # Update the S coefficient\n",
    "    S = rad*math.sqrt(wx * wx + wy * wy + wz * wz)/ math.sqrt(vel1.x * vel1.x + vel1.y * vel1.y + vel1.z * vel1.z)\n",
    "    \n",
    "    # Update each ball's position\n",
    "    ball1.pos = vector(r1[0], r1[1], r1[2])\n",
    "    ball2.pos = vector(r2[0], r2[1], 0)\n",
    "    ball3.pos = vector(posx3, posy3, 0)\n",
    "    \n",
    "    # Check for termination condition\n",
    "    if (r1[1] < 0): isBall1Done = True\n",
    "    if (r2[1] < 0): isBall2Done = True\n",
    "    if (posy3 < 0): isBall3Done = True"
   ]
  },
  {
   "cell_type": "markdown",
   "metadata": {},
   "source": [
    "This program combines the three programs (Classic Parabolic Motion, Air Drag, Magnus Force) into one single program and plots the data (heights versus time, distance traveled along x versus time, trajectory) into one graph. As in the Magnus Force program, in each while loop iteration, the new position of the baseball is calculated using the Runge-Kutta method and the Magnus coefficient is updated by using the Magnus force formula. For this program, I used a baseball with mass = 0.145 kg, radius = 0.0315 m, drag coefficient = 0.32. I used a variety of initial velocities and angular velocities to track down different behaviors of the baseball when it is thrown from the initial position (0, 0, 0). The simulation takes place in the air, which makes the rho = 1.225 and gravitational acceleration = 9.8 m/s^2."
   ]
  }
 ],
 "metadata": {
  "kernelspec": {
   "display_name": "VPython",
   "language": "python",
   "name": "vpython"
  },
  "language_info": {
   "codemirror_mode": {
    "name": "ipython",
    "version": 3
   },
   "file_extension": ".py",
   "mimetype": "text/x-python",
   "name": "python",
   "nbconvert_exporter": "python",
   "pygments_lexer": "ipython3",
   "version": "3.7.1"
  }
 },
 "nbformat": 4,
 "nbformat_minor": 2
}

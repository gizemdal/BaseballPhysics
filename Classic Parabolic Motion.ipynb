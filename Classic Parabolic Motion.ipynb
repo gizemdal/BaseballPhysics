{
 "cells": [
  {
   "cell_type": "code",
   "execution_count": 1,
   "metadata": {},
   "outputs": [
    {
     "data": {
      "application/javascript": [
       "if (typeof Jupyter !== \"undefined\") {require.undef(\"nbextensions/vpython_libraries/glow.min\");}else{element.textContent = ' ';}"
      ],
      "text/plain": [
       "<IPython.core.display.Javascript object>"
      ]
     },
     "metadata": {},
     "output_type": "display_data"
    },
    {
     "data": {
      "application/javascript": [
       "if (typeof Jupyter !== \"undefined\") {require.undef(\"nbextensions/vpython_libraries/glowcomm\");}else{element.textContent = ' ';}"
      ],
      "text/plain": [
       "<IPython.core.display.Javascript object>"
      ]
     },
     "metadata": {},
     "output_type": "display_data"
    },
    {
     "data": {
      "application/javascript": [
       "if (typeof Jupyter !== \"undefined\") {require.undef(\"nbextensions/vpython_libraries/jquery-ui.custom.min\");}else{element.textContent = ' ';}"
      ],
      "text/plain": [
       "<IPython.core.display.Javascript object>"
      ]
     },
     "metadata": {},
     "output_type": "display_data"
    },
    {
     "data": {
      "application/javascript": [
       "if (typeof Jupyter !== \"undefined\") {require([\"nbextensions/vpython_libraries/glow.min\"], function(){console.log(\"GLOW LOADED\");});}else{element.textContent = ' ';}"
      ],
      "text/plain": [
       "<IPython.core.display.Javascript object>"
      ]
     },
     "metadata": {},
     "output_type": "display_data"
    },
    {
     "data": {
      "application/javascript": [
       "if (typeof Jupyter !== \"undefined\") {require([\"nbextensions/vpython_libraries/glowcomm\"], function(){console.log(\"GLOWCOMM LOADED\");});}else{element.textContent = ' ';}"
      ],
      "text/plain": [
       "<IPython.core.display.Javascript object>"
      ]
     },
     "metadata": {},
     "output_type": "display_data"
    },
    {
     "data": {
      "application/javascript": [
       "if (typeof Jupyter !== \"undefined\") {require([\"nbextensions/vpython_libraries/jquery-ui.custom.min\"], function(){console.log(\"JQUERY LOADED\");});}else{element.textContent = ' ';}"
      ],
      "text/plain": [
       "<IPython.core.display.Javascript object>"
      ]
     },
     "metadata": {},
     "output_type": "display_data"
    },
    {
     "data": {
      "text/html": [
       "<div id=\"glowscript\" class=\"glowscript\"></div>"
      ],
      "text/plain": [
       "<IPython.core.display.HTML object>"
      ]
     },
     "metadata": {},
     "output_type": "display_data"
    },
    {
     "data": {
      "application/javascript": [
       "if (typeof Jupyter !== \"undefined\") { window.__context = { glowscript_container: $(\"#glowscript\").removeAttr(\"id\")};}else{ element.textContent = ' ';}"
      ],
      "text/plain": [
       "<IPython.core.display.Javascript object>"
      ]
     },
     "metadata": {},
     "output_type": "display_data"
    }
   ],
   "source": [
    "# This program simulates the trajectory of a ball in vacuum\n",
    "from vpython import *\n",
    "from numpy import pi, array\n",
    "import math\n",
    "\n",
    "# function to update the x-position\n",
    "def x(t):\n",
    "    return vx0*t + x0\n",
    "\n",
    "# function to update the y-position\n",
    "def y(t):\n",
    "    return -0.5*g*t**2 + vy0*t + y0\n",
    "\n",
    "# Define initial values & constants here\n",
    "x0 = 0 # initial x position\n",
    "y0 = 0 # initial y position\n",
    "vx0 = 40 # x-component of the initial velocity\n",
    "vy0 = 20 # y-component of the initial velocity\n",
    "g = 9.8 # gravitational acceleration constant\n",
    "\n",
    "# Define variables here\n",
    "velx = vx0 # x-component of the velocity \n",
    "vely = vy0 # y-component of the velocity\n",
    "posx = x0 # x position\n",
    "posy = y0 # y position\n",
    "t = 0 # elapsed time\n",
    "\n",
    "# Create the scene\n",
    "ball = sphere(pos=vector(posx, posy, 0), radius=0.5, color=color.blue, make_trail=True, retain=100)\n",
    "\n",
    "# Graphs\n",
    "motionY = graph(xtitle=\"time\", ytitle=\"height\")\n",
    "ydots = gdots(graph= motionY, color=color.magenta, label=\"Height change\", interval=1)\n",
    "motionX = graph(xtitle=\"time\", ytitle=\"distance(x)\")\n",
    "xdots = gdots(graph= motionX, color=color.blue, label=\"Distance traveled (x)\", interval=1)\n",
    "\n",
    "# Run the program while the ball hasn't hit the ground yet\n",
    "while (posy >= 0):\n",
    "    rate(20)\n",
    "    ydots.plot(t, posy) # plot the height to the graph\n",
    "    xdots.plot(t, posx) # plot the distance to the graph\n",
    "    t += 0.01\n",
    "    # update the position\n",
    "    posx = x(t)\n",
    "    posy = y(t)\n",
    "    ball.pos = vector(posx, posy, 0)\n"
   ]
  },
  {
   "cell_type": "markdown",
   "metadata": {},
   "source": [
    "This program simulates the trajectory of a ball with initial position (0, 0, 0) and initial velocity (40, 20, 0) in vacuum, where all the forces on the ball except gravity is neglected."
   ]
  }
 ],
 "metadata": {
  "kernelspec": {
   "display_name": "VPython",
   "language": "python",
   "name": "vpython"
  },
  "language_info": {
   "codemirror_mode": {
    "name": "ipython",
    "version": 3
   },
   "file_extension": ".py",
   "mimetype": "text/x-python",
   "name": "python",
   "nbconvert_exporter": "python",
   "pygments_lexer": "ipython3",
   "version": "3.7.1"
  }
 },
 "nbformat": 4,
 "nbformat_minor": 2
}
